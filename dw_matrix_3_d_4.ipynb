{
  "nbformat": 4,
  "nbformat_minor": 0,
  "metadata": {
    "colab": {
      "name": "dw_matrix_3_d_4.ipynb",
      "provenance": [],
      "collapsed_sections": [],
      "mount_file_id": "16hL2SLQis-0Unv3kY-K66loXKZFqd07j",
      "authorship_tag": "ABX9TyMHcvRfsTH6n4BeriEpGC3r",
      "include_colab_link": true
    },
    "kernelspec": {
      "name": "python3",
      "display_name": "Python 3"
    },
    "accelerator": "GPU"
  },
  "cells": [
    {
      "cell_type": "markdown",
      "metadata": {
        "id": "view-in-github",
        "colab_type": "text"
      },
      "source": [
        "<a href=\"https://colab.research.google.com/github/diwadu/dw_matrix_road_sign/blob/master/dw_matrix_3_d_4.ipynb\" target=\"_parent\"><img src=\"https://colab.research.google.com/assets/colab-badge.svg\" alt=\"Open In Colab\"/></a>"
      ]
    },
    {
      "cell_type": "code",
      "metadata": {
        "id": "-RVjg5PISf-i",
        "colab_type": "code",
        "colab": {}
      },
      "source": [
        "import pandas as pd\n",
        "import numpy as np \n",
        "import os\n",
        "import datetime\n",
        "import tensorflow as tf\n",
        "from tensorflow.keras.models import Sequential\n",
        "from tensorflow.keras.layers import  Conv2D, MaxPool2D, Dense, Flatten, Dropout\n",
        "from tensorflow.keras.utils import to_categorical\n",
        "\n",
        "from sklearn.metrics import accuracy_score\n",
        "\n",
        "# %load_ext tensorboard\n",
        "\n",
        "import matplotlib.pyplot as plt\n",
        "from skimage import color, exposure"
      ],
      "execution_count": 0,
      "outputs": []
    },
    {
      "cell_type": "code",
      "metadata": {
        "id": "hdgm8sW5Tl7I",
        "colab_type": "code",
        "outputId": "8971f00c-3d49-4059-cca2-0bf98db91878",
        "colab": {
          "base_uri": "https://localhost:8080/",
          "height": 35
        }
      },
      "source": [
        "cd '/content/drive/My Drive/Colab Notebooks/matrix/matrix_three/dw_matrix_road_sign'"
      ],
      "execution_count": 0,
      "outputs": [
        {
          "output_type": "stream",
          "text": [
            "/content/drive/My Drive/Colab Notebooks/matrix/matrix_three/dw_matrix_road_sign\n"
          ],
          "name": "stdout"
        }
      ]
    },
    {
      "cell_type": "code",
      "metadata": {
        "id": "ki7m2EnnTqyU",
        "colab_type": "code",
        "colab": {}
      },
      "source": [
        "train = pd.read_pickle('data/train.p')\n",
        "test = pd.read_pickle('data/test.p')\n",
        "X_train, y_train = train['features'], train['labels']\n",
        "X_test, y_test = test['features'], test['labels']"
      ],
      "execution_count": 0,
      "outputs": []
    },
    {
      "cell_type": "code",
      "metadata": {
        "id": "cmn4XzrwUCMw",
        "colab_type": "code",
        "outputId": "3685209d-53bf-40b2-c4f2-af09d63fa593",
        "colab": {
          "base_uri": "https://localhost:8080/",
          "height": 35
        }
      },
      "source": [
        "  y_train.shape, y_test.shape"
      ],
      "execution_count": 0,
      "outputs": [
        {
          "output_type": "execute_result",
          "data": {
            "text/plain": [
              "((34799,), (4410,))"
            ]
          },
          "metadata": {
            "tags": []
          },
          "execution_count": 4
        }
      ]
    },
    {
      "cell_type": "code",
      "metadata": {
        "id": "RNgvDGtZVAdV",
        "colab_type": "code",
        "colab": {}
      },
      "source": [
        "#dodajemy wymiar (robimy macierz dla tensorflowa)\n",
        "if y_train.ndim == 1: y_train = to_categorical(y_train)\n",
        "if y_test.ndim == 1: y_test = to_categorical(y_test)"
      ],
      "execution_count": 0,
      "outputs": []
    },
    {
      "cell_type": "code",
      "metadata": {
        "id": "yzUMRE67Vbby",
        "colab_type": "code",
        "outputId": "0acd6535-26f2-4c82-b164-6b4567464ac0",
        "colab": {
          "base_uri": "https://localhost:8080/",
          "height": 35
        }
      },
      "source": [
        "y_train.shape, y_test.shape"
      ],
      "execution_count": 0,
      "outputs": [
        {
          "output_type": "execute_result",
          "data": {
            "text/plain": [
              "((34799, 43), (4410, 43))"
            ]
          },
          "metadata": {
            "tags": []
          },
          "execution_count": 6
        }
      ]
    },
    {
      "cell_type": "code",
      "metadata": {
        "id": "Gncc-ib8W6kv",
        "colab_type": "code",
        "colab": {}
      },
      "source": [
        "input_shape = X_train.shape[1:]\n",
        "num_classes = y_train.shape[1]"
      ],
      "execution_count": 0,
      "outputs": []
    },
    {
      "cell_type": "code",
      "metadata": {
        "id": "gg0a_c3sXHE9",
        "colab_type": "code",
        "colab": {}
      },
      "source": [
        ""
      ],
      "execution_count": 0,
      "outputs": []
    },
    {
      "cell_type": "code",
      "metadata": {
        "id": "9OOBJ1KpWQvw",
        "colab_type": "code",
        "colab": {}
      },
      "source": [
        "model = Sequential([\n",
        "\n",
        "  Conv2D(filters=65, kernel_size=(3,3), activation='relu', \n",
        "         input_shape=input_shape),\n",
        "  Flatten(),\n",
        "  Dense(num_classes, activation='softmax')\n",
        "])\n",
        "\n",
        "#model.summary()\n",
        "#model.compile(loss='categorical_crossentropy', optimizer='Adam', metrics=['accuracy'])\n",
        "#model.fit(X_train, y_train)"
      ],
      "execution_count": 0,
      "outputs": []
    },
    {
      "cell_type": "code",
      "metadata": {
        "id": "zzgrPaT0Etqr",
        "colab_type": "code",
        "colab": {}
      },
      "source": [
        "df = pd.read_csv('data/signnames.csv')\n",
        "labels_dict = df.to_dict()['b']\n",
        "#labels_dict"
      ],
      "execution_count": 0,
      "outputs": []
    },
    {
      "cell_type": "code",
      "metadata": {
        "id": "Ic79QL7MF75D",
        "colab_type": "code",
        "outputId": "43ea1156-b442-429f-d880-bfdc7b874a51",
        "colab": {
          "base_uri": "https://localhost:8080/",
          "height": 752
        }
      },
      "source": [
        "def train_model(model, X_train, y_train, params_fit={}):\n",
        "  model.compile(loss='categorical_crossentropy', \n",
        "              optimizer='Adam', metrics=['accuracy'])\n",
        "\n",
        "  logdir = os.path.join(\"logs\", datetime.datetime.now().strftime(\"%Y%m%d-%H%M%S\"))\n",
        "  tensorboard_callback = tf.keras.callbacks.TensorBoard(logdir, histogram_freq=1)\n",
        "\n",
        "  model.fit(\n",
        "      X_train, \n",
        "      y_train,\n",
        "      batch_size=params_fit.get('batch_size', 128),\n",
        "      epochs=params_fit.get('epochs', 5),\n",
        "      verbose= True,\n",
        "      validation_data = params_fit.get('validation_data', (X_train, y_train)),\n",
        "      callbacks = [tensorboard_callback]\n",
        "      )\n",
        "  \n",
        "  return model\n",
        "\n",
        "def predict(model_trained, X_test, y_test, scoring = accuracy_score):\n",
        "  y_test_norm = np.argmax(y_test, axis=1)\n",
        "  y_pred_prob = model_trained.predict(X_test)\n",
        "  y_pred = np.argmax(y_pred_prob, axis=1)\n",
        "  return scoring(y_test_norm, y_pred)\n",
        "\n",
        "def train_and_predict(model):\n",
        "  model_trained = train_model(model, X_train, y_train)\n",
        "  predict(model_trained, X_test, y_test)\n",
        "\n",
        "def get_cnn_v1(input_shape, num_classes):\n",
        "  return Sequential([\n",
        "      Conv2D(filters=65, kernel_size=(3,3), activation='relu', \n",
        "         input_shape=input_shape),\n",
        "      Flatten(),\n",
        "      Dense(num_classes, activation='softmax')\n",
        "  ])\n",
        "\n",
        "def get_cnn_v2(input_shape, num_classes):\n",
        "  return Sequential([\n",
        "      Conv2D(filters=32, kernel_size=(3,3), activation='relu', input_shape=input_shape),\n",
        "      MaxPool2D(),\n",
        "      Dropout(0.5),\n",
        "\n",
        "      Conv2D(filters=64, kernel_size=(3,3), activation='relu'),\n",
        "      MaxPool2D(),\n",
        "      Dropout(0.3),\n",
        "      \n",
        "      Flatten(),\n",
        "\n",
        "      Dense(1024, activation='relu'),\n",
        "      Dropout(0.5),\n",
        "\n",
        "      Dense(num_classes, activation='softmax')\n",
        "  ])\n",
        "\n",
        "def get_cnn_v3(input_shape, num_classes):\n",
        "    return Sequential([\n",
        "      Conv2D(filters=32, kernel_size=(3,3), activation='relu', input_shape=input_shape),\n",
        "      Conv2D(filters=32, kernel_size=(3,3), activation='relu'),\n",
        "      MaxPool2D(),\n",
        "      Dropout(0.3),\n",
        "\n",
        "      Conv2D(filters=64, kernel_size=(3,3), activation='relu'),\n",
        "      Conv2D(filters=64, kernel_size=(3,3), activation='relu'),\n",
        "      MaxPool2D(),\n",
        "      Dropout(0.3),\n",
        "      \n",
        "      Flatten(),\n",
        "\n",
        "      Dense(1024, activation='relu'),\n",
        "      Dropout(0.3),\n",
        "\n",
        "      Dense(num_classes, activation='softmax')\n",
        "  ])\n",
        "    \n",
        "def get_cnn_v4(input_shape, num_classes):\n",
        "    return Sequential([\n",
        "      Conv2D(filters=32, kernel_size=(3,3), activation='relu', input_shape=input_shape),\n",
        "      Conv2D(filters=32, kernel_size=(3,3), activation='relu', padding='same'),\n",
        "      MaxPool2D(),\n",
        "      Dropout(0.3),\n",
        "\n",
        "      Conv2D(filters=64, kernel_size=(3,3), activation='relu', padding='same'),\n",
        "      Conv2D(filters=64, kernel_size=(3,3), activation='relu'),\n",
        "      MaxPool2D(),\n",
        "      Dropout(0.3),\n",
        "\n",
        "      #jak damy za dużo warstw to bedzie zmienijszał rozmiar(?) zdjęcia w summary\n",
        "      Conv2D(filters=64, kernel_size=(3,3), activation='relu', padding='same'), \n",
        "      Conv2D(filters=64, kernel_size=(3,3), activation='relu'),\n",
        "      MaxPool2D(),\n",
        "      Dropout(0.3),\n",
        "      \n",
        "      Flatten(),\n",
        "\n",
        "      Dense(1024, activation='relu'),\n",
        "      Dropout(0.3),\n",
        "\n",
        "      Dense(num_classes, activation='softmax')\n",
        "  ])\n",
        "    \n",
        "#get_cnn_v4(input_shape, num_classes).summary()"
      ],
      "execution_count": 0,
      "outputs": [
        {
          "output_type": "stream",
          "text": [
            "Model: \"sequential_9\"\n",
            "_________________________________________________________________\n",
            "Layer (type)                 Output Shape              Param #   \n",
            "=================================================================\n",
            "conv2d_34 (Conv2D)           (None, 30, 30, 32)        896       \n",
            "_________________________________________________________________\n",
            "conv2d_35 (Conv2D)           (None, 30, 30, 32)        9248      \n",
            "_________________________________________________________________\n",
            "max_pooling2d_18 (MaxPooling (None, 15, 15, 32)        0         \n",
            "_________________________________________________________________\n",
            "dropout_27 (Dropout)         (None, 15, 15, 32)        0         \n",
            "_________________________________________________________________\n",
            "conv2d_36 (Conv2D)           (None, 15, 15, 64)        18496     \n",
            "_________________________________________________________________\n",
            "conv2d_37 (Conv2D)           (None, 13, 13, 64)        36928     \n",
            "_________________________________________________________________\n",
            "max_pooling2d_19 (MaxPooling (None, 6, 6, 64)          0         \n",
            "_________________________________________________________________\n",
            "dropout_28 (Dropout)         (None, 6, 6, 64)          0         \n",
            "_________________________________________________________________\n",
            "conv2d_38 (Conv2D)           (None, 6, 6, 64)          36928     \n",
            "_________________________________________________________________\n",
            "conv2d_39 (Conv2D)           (None, 4, 4, 64)          36928     \n",
            "_________________________________________________________________\n",
            "max_pooling2d_20 (MaxPooling (None, 2, 2, 64)          0         \n",
            "_________________________________________________________________\n",
            "dropout_29 (Dropout)         (None, 2, 2, 64)          0         \n",
            "_________________________________________________________________\n",
            "flatten_9 (Flatten)          (None, 256)               0         \n",
            "_________________________________________________________________\n",
            "dense_17 (Dense)             (None, 1024)              263168    \n",
            "_________________________________________________________________\n",
            "dropout_30 (Dropout)         (None, 1024)              0         \n",
            "_________________________________________________________________\n",
            "dense_18 (Dense)             (None, 43)                44075     \n",
            "=================================================================\n",
            "Total params: 446,667\n",
            "Trainable params: 446,667\n",
            "Non-trainable params: 0\n",
            "_________________________________________________________________\n"
          ],
          "name": "stdout"
        }
      ]
    },
    {
      "cell_type": "code",
      "metadata": {
        "id": "QugJlRKQIbbn",
        "colab_type": "code",
        "outputId": "9bac118a-aa8c-467c-918a-7cd40b6bd236",
        "colab": {
          "base_uri": "https://localhost:8080/",
          "height": 201
        }
      },
      "source": [
        "train_and_predict(get_cnn_v2(input_shape, num_classes))"
      ],
      "execution_count": 0,
      "outputs": [
        {
          "output_type": "stream",
          "text": [
            "Epoch 1/5\n",
            "272/272 [==============================] - 4s 14ms/step - loss: 8.5080 - accuracy: 0.1097 - val_loss: 2.9566 - val_accuracy: 0.1975\n",
            "Epoch 2/5\n",
            "272/272 [==============================] - 4s 14ms/step - loss: 2.5244 - accuracy: 0.3065 - val_loss: 1.7383 - val_accuracy: 0.4985\n",
            "Epoch 3/5\n",
            "272/272 [==============================] - 4s 14ms/step - loss: 1.7202 - accuracy: 0.4787 - val_loss: 1.0924 - val_accuracy: 0.6963\n",
            "Epoch 4/5\n",
            "272/272 [==============================] - 4s 14ms/step - loss: 1.1600 - accuracy: 0.6402 - val_loss: 0.5421 - val_accuracy: 0.8633\n",
            "Epoch 5/5\n",
            "272/272 [==============================] - 4s 14ms/step - loss: 0.7923 - accuracy: 0.7527 - val_loss: 0.2923 - val_accuracy: 0.9232\n"
          ],
          "name": "stdout"
        }
      ]
    },
    {
      "cell_type": "code",
      "metadata": {
        "id": "1XkGMIgIJ1eF",
        "colab_type": "code",
        "outputId": "fa673100-9081-4dd8-cfda-27e86743d519",
        "colab": {
          "base_uri": "https://localhost:8080/",
          "height": 201
        }
      },
      "source": [
        "train_and_predict(get_cnn_v3(input_shape, num_classes))"
      ],
      "execution_count": 0,
      "outputs": [
        {
          "output_type": "stream",
          "text": [
            "Epoch 1/5\n",
            "272/272 [==============================] - 5s 19ms/step - loss: 2.9621 - accuracy: 0.4550 - val_loss: 0.4633 - val_accuracy: 0.8805\n",
            "Epoch 2/5\n",
            "272/272 [==============================] - 5s 19ms/step - loss: 0.5924 - accuracy: 0.8258 - val_loss: 0.1893 - val_accuracy: 0.9535\n",
            "Epoch 3/5\n",
            "272/272 [==============================] - 5s 19ms/step - loss: 0.3221 - accuracy: 0.9045 - val_loss: 0.0772 - val_accuracy: 0.9798\n",
            "Epoch 4/5\n",
            "272/272 [==============================] - 5s 19ms/step - loss: 0.2084 - accuracy: 0.9385 - val_loss: 0.0394 - val_accuracy: 0.9895\n",
            "Epoch 5/5\n",
            "272/272 [==============================] - 5s 19ms/step - loss: 0.1582 - accuracy: 0.9528 - val_loss: 0.0348 - val_accuracy: 0.9909\n"
          ],
          "name": "stdout"
        }
      ]
    },
    {
      "cell_type": "code",
      "metadata": {
        "id": "TmGxhSxhNttw",
        "colab_type": "code",
        "outputId": "968ce6c9-8a5d-4517-e186-ada90ed1d421",
        "colab": {
          "base_uri": "https://localhost:8080/",
          "height": 201
        }
      },
      "source": [
        "train_and_predict(get_cnn_v4(input_shape, num_classes))"
      ],
      "execution_count": 0,
      "outputs": [
        {
          "output_type": "stream",
          "text": [
            "Epoch 1/5\n",
            "272/272 [==============================] - 6s 23ms/step - loss: 2.4348 - accuracy: 0.3252 - val_loss: 1.0653 - val_accuracy: 0.6565\n",
            "Epoch 2/5\n",
            "272/272 [==============================] - 6s 22ms/step - loss: 0.8674 - accuracy: 0.7226 - val_loss: 0.2194 - val_accuracy: 0.9342\n",
            "Epoch 3/5\n",
            "272/272 [==============================] - 6s 22ms/step - loss: 0.3723 - accuracy: 0.8826 - val_loss: 0.1009 - val_accuracy: 0.9672\n",
            "Epoch 4/5\n",
            "272/272 [==============================] - 6s 22ms/step - loss: 0.2314 - accuracy: 0.9279 - val_loss: 0.0458 - val_accuracy: 0.9863\n",
            "Epoch 5/5\n",
            "272/272 [==============================] - 6s 21ms/step - loss: 0.1730 - accuracy: 0.9489 - val_loss: 0.0241 - val_accuracy: 0.9931\n"
          ],
          "name": "stdout"
        }
      ]
    },
    {
      "cell_type": "code",
      "metadata": {
        "id": "r3ESGYzoPBpv",
        "colab_type": "code",
        "colab": {}
      },
      "source": [
        "def get_cnn_v5(input_shape, num_classes):\n",
        "    return Sequential([\n",
        "      Conv2D(filters=32, kernel_size=(3,3), activation='relu', input_shape=input_shape),\n",
        "      Conv2D(filters=32, kernel_size=(3,3), activation='relu', padding='same'),\n",
        "      MaxPool2D(),\n",
        "      Dropout(0.3),\n",
        "\n",
        "      Conv2D(filters=64, kernel_size=(3,3), activation='relu', padding='same'),\n",
        "      Conv2D(filters=64, kernel_size=(3,3), activation='relu'),\n",
        "      MaxPool2D(),\n",
        "      Dropout(0.3),\n",
        "\n",
        "      #jak damy za dużo warstw to bedzie zmienijszał rozmiar(?) zdjęcia w summary\n",
        "      Conv2D(filters=64, kernel_size=(3,3), activation='relu', padding='same'), \n",
        "      Conv2D(filters=64, kernel_size=(3,3), activation='relu'),\n",
        "      MaxPool2D(),\n",
        "      Dropout(0.3),\n",
        "      \n",
        "      Flatten(),\n",
        "\n",
        "      Dense(1024, activation='relu'),\n",
        "      Dropout(0.3),\n",
        "\n",
        "      Dense(1024, activation='relu'),\n",
        "      Dropout(0.3),\n",
        "      \n",
        "      Dense(num_classes, activation='softmax')\n",
        "  ])"
      ],
      "execution_count": 0,
      "outputs": []
    },
    {
      "cell_type": "code",
      "metadata": {
        "id": "tF9bNX8CPO05",
        "colab_type": "code",
        "outputId": "e73b93a2-8465-42a0-952a-9ab2cd4eb078",
        "colab": {
          "base_uri": "https://localhost:8080/",
          "height": 201
        }
      },
      "source": [
        "train_and_predict(get_cnn_v5(input_shape, num_classes))\n",
        "predict(model_trained, X_test_gray, y_test)"
      ],
      "execution_count": 0,
      "outputs": [
        {
          "output_type": "stream",
          "text": [
            "Epoch 1/5\n",
            "272/272 [==============================] - 6s 24ms/step - loss: 2.8630 - accuracy: 0.2385 - val_loss: 1.2690 - val_accuracy: 0.5626\n",
            "Epoch 2/5\n",
            "272/272 [==============================] - 6s 23ms/step - loss: 1.0479 - accuracy: 0.6654 - val_loss: 0.3601 - val_accuracy: 0.8955\n",
            "Epoch 3/5\n",
            "272/272 [==============================] - 6s 22ms/step - loss: 0.5113 - accuracy: 0.8394 - val_loss: 0.1401 - val_accuracy: 0.9563\n",
            "Epoch 4/5\n",
            "272/272 [==============================] - 6s 22ms/step - loss: 0.3246 - accuracy: 0.9005 - val_loss: 0.0917 - val_accuracy: 0.9712\n",
            "Epoch 5/5\n",
            "272/272 [==============================] - 6s 22ms/step - loss: 0.2375 - accuracy: 0.9281 - val_loss: 0.0568 - val_accuracy: 0.9834\n"
          ],
          "name": "stdout"
        }
      ]
    },
    {
      "cell_type": "code",
      "metadata": {
        "id": "ACvJv-50Pp_b",
        "colab_type": "code",
        "outputId": "471f07fd-7718-47b3-e3e2-315e7bb71e1c",
        "colab": {
          "base_uri": "https://localhost:8080/",
          "height": 284
        }
      },
      "source": [
        "#konwersja kanałów rgb do szarości (redukcja kanałów)\n",
        "plt.imshow(color.rgb2gray(X_train[0]), cmap=plt.get_cmap('gray'))"
      ],
      "execution_count": 0,
      "outputs": [
        {
          "output_type": "execute_result",
          "data": {
            "text/plain": [
              "<matplotlib.image.AxesImage at 0x7ff6ea19b898>"
            ]
          },
          "metadata": {
            "tags": []
          },
          "execution_count": 30
        },
        {
          "output_type": "display_data",
          "data": {
            "image/png": "[encoded data removed]",
            "text/plain": [
              "<Figure size 432x288 with 1 Axes>"
            ]
          },
          "metadata": {
            "tags": []
          }
        }
      ]
    },
    {
      "cell_type": "code",
      "metadata": {
        "id": "Rgo75bX5QSKi",
        "colab_type": "code",
        "colab": {}
      },
      "source": [
        "X_train_gray = color.rgb2gray(X_train).reshape(-1, 32, 32, 1)\n",
        "X_test_gray = color.rgb2gray(X_test).reshape(-1, 32, 32, 1)"
      ],
      "execution_count": 0,
      "outputs": []
    },
    {
      "cell_type": "code",
      "metadata": {
        "id": "a6hr2S5dRQoj",
        "colab_type": "code",
        "outputId": "67ee2730-3bbe-4cdc-831b-43fa8b541d05",
        "colab": {
          "base_uri": "https://localhost:8080/",
          "height": 219
        }
      },
      "source": [
        "model = get_cnn_v4((32, 32, 1), num_classes)\n",
        "model_trained = train_model(model, X_train_gray, y_train, params_fit={})\n",
        "predict(model_trained, X_test_gray, y_test)"
      ],
      "execution_count": 0,
      "outputs": [
        {
          "output_type": "stream",
          "text": [
            "Epoch 1/5\n",
            "272/272 [==============================] - 6s 22ms/step - loss: 2.6767 - accuracy: 0.2641 - val_loss: 0.6943 - val_accuracy: 0.7928\n",
            "Epoch 2/5\n",
            "272/272 [==============================] - 6s 21ms/step - loss: 0.5189 - accuracy: 0.8355 - val_loss: 0.1445 - val_accuracy: 0.9552\n",
            "Epoch 3/5\n",
            "272/272 [==============================] - 6s 21ms/step - loss: 0.2361 - accuracy: 0.9236 - val_loss: 0.0617 - val_accuracy: 0.9826\n",
            "Epoch 4/5\n",
            "272/272 [==============================] - 6s 21ms/step - loss: 0.1529 - accuracy: 0.9520 - val_loss: 0.0377 - val_accuracy: 0.9892\n",
            "Epoch 5/5\n",
            "272/272 [==============================] - 6s 21ms/step - loss: 0.1195 - accuracy: 0.9626 - val_loss: 0.0239 - val_accuracy: 0.9936\n"
          ],
          "name": "stdout"
        },
        {
          "output_type": "execute_result",
          "data": {
            "text/plain": [
              "0.9650793650793651"
            ]
          },
          "metadata": {
            "tags": []
          },
          "execution_count": 33
        }
      ]
    },
    {
      "cell_type": "code",
      "metadata": {
        "id": "xJkKXpB1TOQ-",
        "colab_type": "code",
        "colab": {}
      },
      "source": [
        "#dalszy preprocessing\n",
        "def preproc_img(img):\n",
        "  hsv = color.rgb2hsv(img)\n",
        "  hsv[:,:,2] = exposure.equalize_adapthist(hsv[:,:,2])\n",
        "  img = color.hsv2rgb(hsv)\n",
        "  return img"
      ],
      "execution_count": 0,
      "outputs": []
    },
    {
      "cell_type": "code",
      "metadata": {
        "id": "gjtB6um3uKzS",
        "colab_type": "code",
        "colab": {}
      },
      "source": [
        "def recognize_sign(img_nr):\n",
        "  y_test_norm = np.argmax(y_test, axis=1)\n",
        "  y_pred_prob = model_trained.predict(X_test_gray)\n",
        "  y_pred = np.argmax(y_pred_prob, axis=1)\n",
        "  print(labels_dict[np.argmax(y_pred_prob[IMG_NR])])\n",
        "  print(X_train_gray.shape, X_train.shape)\n",
        "  plt.imshow(color.rgb2gray(X_test[IMG_NR]), cmap=plt.get_cmap('gray'))\n",
        "  plt.show()\n",
        "  plt.bar(range(43), y_pred_prob[IMG_NR])\n",
        "  plt.show()"
      ],
      "execution_count": 0,
      "outputs": []
    },
    {
      "cell_type": "code",
      "metadata": {
        "id": "WASwKQgqhTTp",
        "colab_type": "code",
        "outputId": "775e6e38-9dfa-48e3-aab7-fc5b28571a87",
        "colab": {
          "base_uri": "https://localhost:8080/",
          "height": 800
        }
      },
      "source": [
        "IMG_NR =  4400 #1100 #400\n",
        "recognize_sign(IMG_NR)"
      ],
      "execution_count": 0,
      "outputs": [
        {
          "output_type": "stream",
          "text": [
            "Road work\n",
            "(34799, 32, 32, 1) (34799, 32, 32, 3)\n"
          ],
          "name": "stdout"
        },
        {
          "output_type": "display_data",
          "data": {
            "image/png": "[encoded data removed]",
            "text/plain": [
              "<Figure size 432x288 with 1 Axes>"
            ]
          },
          "metadata": {
            "tags": []
          }
        },
        {
          "output_type": "display_data",
          "data": {
            "image/png": "[encoded data removed]",
            "text/plain": [
              "<Figure size 432x288 with 1 Axes>"
            ]
          },
          "metadata": {
            "tags": []
          }
        },
        {
          "output_type": "display_data",
          "data": {
            "image/png": "[encoded data removed]",
            "text/plain": [
              "<Figure size 432x288 with 1 Axes>"
            ]
          },
          "metadata": {
            "tags": []
          }
        }
      ]
    }
  ]
}